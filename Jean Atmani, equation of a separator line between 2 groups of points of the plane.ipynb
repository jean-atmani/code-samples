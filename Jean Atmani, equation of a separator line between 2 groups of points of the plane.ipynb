{
 "cells": [
  {
   "cell_type": "code",
   "execution_count": 1,
   "metadata": {},
   "outputs": [],
   "source": [
    "import numpy as np\n",
    "import matplotlib\n",
    "from matplotlib import pyplot as plt\n",
    "import scipy\n",
    "from sklearn import svm"
   ]
  },
  {
   "cell_type": "code",
   "execution_count": 4,
   "metadata": {},
   "outputs": [],
   "source": [
    "group1 = np.array([[0.067, 0.21], [0.092, 0.21], \n",
    "  [0.294, 0.445], [0.227, 0.521], [0.185, 0.597], \n",
    "  [0.185, 0.689], [0.235, 0.748], [0.319, 0.773], \n",
    "  [0.387, 0.739], [0.437, 0.672], [0.496, 0.739],\n",
    "  [0.571, 0.773], [0.639, 0.765], [0.765, 0.924],\n",
    "  [0.807, 0.933], [0.849, 0.941]])\n",
    "group2 = np.array([[0.118, 0.143], [0.118, 0.176], \n",
    "  [0.345, 0.378], [0.395, 0.319], [0.437, 0.261],\n",
    "  [0.496, 0.328], [0.546, 0.395], [0.605, 0.462],\n",
    "  [0.655, 0.529], [0.697, 0.597], [0.706, 0.664],\n",
    "  [0.681, 0.723], [0.849, 0.798], [0.857, 0.849],\n",
    "  [0.866, 0.899]])"
   ]
  },
  {
   "cell_type": "code",
   "execution_count": 5,
   "metadata": {},
   "outputs": [
    {
     "data": {
      "text/plain": [
       "array([[0.067, 0.21 ],\n",
       "       [0.092, 0.21 ],\n",
       "       [0.294, 0.445],\n",
       "       [0.227, 0.521],\n",
       "       [0.185, 0.597],\n",
       "       [0.185, 0.689],\n",
       "       [0.235, 0.748],\n",
       "       [0.319, 0.773],\n",
       "       [0.387, 0.739],\n",
       "       [0.437, 0.672],\n",
       "       [0.496, 0.739],\n",
       "       [0.571, 0.773],\n",
       "       [0.639, 0.765],\n",
       "       [0.765, 0.924],\n",
       "       [0.807, 0.933],\n",
       "       [0.849, 0.941]])"
      ]
     },
     "execution_count": 5,
     "metadata": {},
     "output_type": "execute_result"
    }
   ],
   "source": [
    "group1"
   ]
  },
  {
   "cell_type": "code",
   "execution_count": 6,
   "metadata": {},
   "outputs": [
    {
     "data": {
      "text/plain": [
       "<matplotlib.collections.PathCollection at 0x22b79d2b128>"
      ]
     },
     "execution_count": 6,
     "metadata": {},
     "output_type": "execute_result"
    },
    {
     "data": {
      "image/png": "[encoded data removed]",
      "text/plain": [
       "<Figure size 432x288 with 1 Axes>"
      ]
     },
     "metadata": {},
     "output_type": "display_data"
    }
   ],
   "source": [
    "plt.scatter(group1[:,0],group1[:,1], marker='+')\n",
    "plt.scatter(group2[:,0],group2[:,1], c= 'green', marker='o')"
   ]
  },
  {
   "cell_type": "code",
   "execution_count": 26,
   "metadata": {},
   "outputs": [
    {
     "data": {
      "text/plain": [
       "SVC(C=1.0, cache_size=200, class_weight=None, coef0=0.0,\n",
       "  decision_function_shape='ovr', degree=3, gamma=0.7, kernel='linear',\n",
       "  max_iter=-1, probability=False, random_state=None, shrinking=True,\n",
       "  tol=0.001, verbose=False)"
      ]
     },
     "execution_count": 26,
     "metadata": {},
     "output_type": "execute_result"
    }
   ],
   "source": [
    "X = np.concatenate((group1,group2), axis = 0)\n",
    "Y = np.array([0]*len(group1) + [1]*len(group2))\n",
    "\n",
    "c = 1.0  # SVM regularization parameter\n",
    "clf = svm.SVC(kernel = 'linear',  gamma=0.7, C=c )\n",
    "clf.fit(X, Y)"
   ]
  },
  {
   "cell_type": "code",
   "execution_count": 29,
   "metadata": {},
   "outputs": [
    {
     "data": {
      "text/plain": [
       "<matplotlib.collections.PathCollection at 0x22b7b7280f0>"
      ]
     },
     "execution_count": 29,
     "metadata": {},
     "output_type": "execute_result"
    },
    {
     "data": {
      "image/png": "[encoded data removed]",
      "text/plain": [
       "<Figure size 432x288 with 1 Axes>"
      ]
     },
     "metadata": {},
     "output_type": "display_data"
    }
   ],
   "source": [
    "w = clf.coef_[0]\n",
    "a = -w[0] / w[1]\n",
    "xx = np.linspace(0.1, 0.9)\n",
    "yy = a * xx - (clf.intercept_[0]) / w[1]\n",
    "\n",
    "plt.plot(xx, yy, 'r--')\n",
    "plt.scatter(group1[:,0],group1[:,1], marker='+')\n",
    "plt.scatter(group2[:,0],group2[:,1], c= 'green', marker='o')"
   ]
  },
  {
   "cell_type": "markdown",
   "metadata": {},
   "source": [
    "# Equation of the linear separator "
   ]
  },
  {
   "cell_type": "code",
   "execution_count": 15,
   "metadata": {},
   "outputs": [
    {
     "name": "stdout",
     "output_type": "stream",
     "text": [
      "y = 0.8510373443983404  * x + 0.12484438160890365\n"
     ]
    }
   ],
   "source": [
    "print(f\"y = {a}  * x + {-(clf.intercept_[0]) / w[1]}\")"
   ]
  },
  {
   "cell_type": "code",
   "execution_count": null,
   "metadata": {},
   "outputs": [],
   "source": []
  }
 ],
 "metadata": {
  "kernelspec": {
   "display_name": "Python 3",
   "language": "python",
   "name": "python3"
  },
  "language_info": {
   "codemirror_mode": {
    "name": "ipython",
    "version": 3
   },
   "file_extension": ".py",
   "mimetype": "text/x-python",
   "name": "python",
   "nbconvert_exporter": "python",
   "pygments_lexer": "ipython3",
   "version": "3.6.5"
  }
 },
 "nbformat": 4,
 "nbformat_minor": 2
}
